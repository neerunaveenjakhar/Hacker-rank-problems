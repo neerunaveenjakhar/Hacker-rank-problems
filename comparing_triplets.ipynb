{
 "cells": [
  {
   "cell_type": "code",
   "execution_count": null,
   "metadata": {},
   "outputs": [],
   "source": [
    "def compareTriplets(a, b):\n",
    "    alice=0\n",
    "    bob=0\n",
    "    for i in range(3):\n",
    "        if(a[i]>b[i]):\n",
    "            alice+=1\n",
    "        elif(a[i]<b[i]):\n",
    "            bob+=1\n",
    "    return (alice, bob)"
   ]
  }
 ],
 "metadata": {
  "kernelspec": {
   "display_name": "Python 3",
   "language": "python",
   "name": "python3"
  },
  "language_info": {
   "codemirror_mode": {
    "name": "ipython",
    "version": 3
   },
   "file_extension": ".py",
   "mimetype": "text/x-python",
   "name": "python",
   "nbconvert_exporter": "python",
   "pygments_lexer": "ipython3",
   "version": "3.7.4"
  }
 },
 "nbformat": 4,
 "nbformat_minor": 2
}
