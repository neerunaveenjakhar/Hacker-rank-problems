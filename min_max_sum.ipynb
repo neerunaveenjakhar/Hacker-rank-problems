{
 "cells": [
  {
   "cell_type": "code",
   "execution_count": null,
   "metadata": {},
   "outputs": [],
   "source": [
    "def miniMaxSum(arr):\n",
    "    sum=0\n",
    "    for i in range(len(arr)):\n",
    "        sum+=arr[i]\n",
    "    print ( sum-max(arr), sum-min(arr))"
   ]
  }
 ],
 "metadata": {
  "kernelspec": {
   "display_name": "Python 3",
   "language": "python",
   "name": "python3"
  }
 },
 "nbformat": 4,
 "nbformat_minor": 2
}
